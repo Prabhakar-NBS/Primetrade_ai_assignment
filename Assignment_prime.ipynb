{
 "cells": [
  {
   "cell_type": "code",
   "execution_count": 10,
   "metadata": {},
   "outputs": [],
   "source": [
    "import requests\n",
    "import pandas as pd\n",
    "\n",
    "def fetch_top_cryptocurrencies():\n",
    "    url = \"https://api.coingecko.com/api/v3/coins/markets\"\n",
    "    params = {\n",
    "        \"vs_currency\": \"usd\",  # Convert to USD\n",
    "        \"order\": \"market_cap_desc\",  # Order by market capitalization\n",
    "        \"per_page\": 50,  # Top 50 cryptocurrencies\n",
    "        \"page\": 1,  # First page\n",
    "        \"sparkline\": False  # Exclude sparkline data\n",
    "    }\n",
    "\n",
    "    try:\n",
    "        response = requests.get(url, params=params)\n",
    "        response.raise_for_status()  # Raise an error for bad status codes\n",
    "        data = response.json()\n",
    "\n",
    "        # Extract relevant fields\n",
    "        crypto_list = []\n",
    "        for coin in data:\n",
    "            crypto_list.append({\n",
    "                \"Cryptocurrency Name\": coin.get(\"name\"),\n",
    "                \"Symbol\": coin.get(\"symbol\").upper(),\n",
    "                \"Current Price (USD)\": coin.get(\"current_price\"),\n",
    "                \"Market Capitalization (USD)\": coin.get(\"market_cap\"),\n",
    "                \"24h Trading Volume (USD)\": coin.get(\"total_volume\"),\n",
    "                \"Price Change (24h %)\": coin.get(\"price_change_percentage_24h\")\n",
    "            })\n",
    "\n",
    "        # Convert to a Pandas DataFrame for better visualization\n",
    "        df = pd.DataFrame(crypto_list)\n",
    "        return df\n",
    "\n",
    "    except requests.exceptions.RequestException as e:\n",
    "        print(f\"Error fetching data: {e}\")\n",
    "        return None\n",
    "\n",
    "\n",
    "top_cryptos = fetch_top_cryptocurrencies()"
   ]
  },
  {
   "cell_type": "code",
   "execution_count": 12,
   "metadata": {},
   "outputs": [
    {
     "data": {
      "text/html": [
       "<div>\n",
       "<style scoped>\n",
       "    .dataframe tbody tr th:only-of-type {\n",
       "        vertical-align: middle;\n",
       "    }\n",
       "\n",
       "    .dataframe tbody tr th {\n",
       "        vertical-align: top;\n",
       "    }\n",
       "\n",
       "    .dataframe thead th {\n",
       "        text-align: right;\n",
       "    }\n",
       "</style>\n",
       "<table border=\"1\" class=\"dataframe\">\n",
       "  <thead>\n",
       "    <tr style=\"text-align: right;\">\n",
       "      <th></th>\n",
       "      <th>Cryptocurrency Name</th>\n",
       "      <th>Symbol</th>\n",
       "      <th>Current Price (USD)</th>\n",
       "      <th>Market Capitalization (USD)</th>\n",
       "      <th>24h Trading Volume (USD)</th>\n",
       "      <th>Price Change (24h %)</th>\n",
       "    </tr>\n",
       "  </thead>\n",
       "  <tbody>\n",
       "    <tr>\n",
       "      <th>0</th>\n",
       "      <td>Bitcoin</td>\n",
       "      <td>BTC</td>\n",
       "      <td>97406.000000</td>\n",
       "      <td>1926836401263</td>\n",
       "      <td>102843314368</td>\n",
       "      <td>5.14084</td>\n",
       "    </tr>\n",
       "    <tr>\n",
       "      <th>1</th>\n",
       "      <td>Ethereum</td>\n",
       "      <td>ETH</td>\n",
       "      <td>3122.800000</td>\n",
       "      <td>376020394290</td>\n",
       "      <td>36667118366</td>\n",
       "      <td>0.37862</td>\n",
       "    </tr>\n",
       "    <tr>\n",
       "      <th>2</th>\n",
       "      <td>Tether</td>\n",
       "      <td>USDT</td>\n",
       "      <td>1.003000</td>\n",
       "      <td>130535639607</td>\n",
       "      <td>101782355354</td>\n",
       "      <td>0.21210</td>\n",
       "    </tr>\n",
       "    <tr>\n",
       "      <th>3</th>\n",
       "      <td>Solana</td>\n",
       "      <td>SOL</td>\n",
       "      <td>239.120000</td>\n",
       "      <td>113486556745</td>\n",
       "      <td>9650040509</td>\n",
       "      <td>1.56756</td>\n",
       "    </tr>\n",
       "    <tr>\n",
       "      <th>4</th>\n",
       "      <td>BNB</td>\n",
       "      <td>BNB</td>\n",
       "      <td>610.670000</td>\n",
       "      <td>89073948659</td>\n",
       "      <td>1810913555</td>\n",
       "      <td>-0.39764</td>\n",
       "    </tr>\n",
       "    <tr>\n",
       "      <th>5</th>\n",
       "      <td>XRP</td>\n",
       "      <td>XRP</td>\n",
       "      <td>1.120000</td>\n",
       "      <td>63517958385</td>\n",
       "      <td>7633616137</td>\n",
       "      <td>2.11578</td>\n",
       "    </tr>\n",
       "    <tr>\n",
       "      <th>6</th>\n",
       "      <td>Dogecoin</td>\n",
       "      <td>DOGE</td>\n",
       "      <td>0.384871</td>\n",
       "      <td>56524207859</td>\n",
       "      <td>10483959674</td>\n",
       "      <td>-1.40427</td>\n",
       "    </tr>\n",
       "    <tr>\n",
       "      <th>7</th>\n",
       "      <td>USDC</td>\n",
       "      <td>USDC</td>\n",
       "      <td>1.002000</td>\n",
       "      <td>37947214574</td>\n",
       "      <td>9806782821</td>\n",
       "      <td>0.25067</td>\n",
       "    </tr>\n",
       "    <tr>\n",
       "      <th>8</th>\n",
       "      <td>Lido Staked Ether</td>\n",
       "      <td>STETH</td>\n",
       "      <td>3120.740000</td>\n",
       "      <td>30453296132</td>\n",
       "      <td>120502334</td>\n",
       "      <td>0.27983</td>\n",
       "    </tr>\n",
       "    <tr>\n",
       "      <th>9</th>\n",
       "      <td>Cardano</td>\n",
       "      <td>ADA</td>\n",
       "      <td>0.791969</td>\n",
       "      <td>28344094757</td>\n",
       "      <td>3902471565</td>\n",
       "      <td>0.01925</td>\n",
       "    </tr>\n",
       "    <tr>\n",
       "      <th>10</th>\n",
       "      <td>TRON</td>\n",
       "      <td>TRX</td>\n",
       "      <td>0.197524</td>\n",
       "      <td>17054012258</td>\n",
       "      <td>990719076</td>\n",
       "      <td>-0.28956</td>\n",
       "    </tr>\n",
       "    <tr>\n",
       "      <th>11</th>\n",
       "      <td>Shiba Inu</td>\n",
       "      <td>SHIB</td>\n",
       "      <td>0.000024</td>\n",
       "      <td>14218566831</td>\n",
       "      <td>1363727690</td>\n",
       "      <td>-1.23580</td>\n",
       "    </tr>\n",
       "    <tr>\n",
       "      <th>12</th>\n",
       "      <td>Wrapped Bitcoin</td>\n",
       "      <td>WBTC</td>\n",
       "      <td>97000.000000</td>\n",
       "      <td>14176498884</td>\n",
       "      <td>679230078</td>\n",
       "      <td>5.08036</td>\n",
       "    </tr>\n",
       "    <tr>\n",
       "      <th>13</th>\n",
       "      <td>Avalanche</td>\n",
       "      <td>AVAX</td>\n",
       "      <td>34.040000</td>\n",
       "      <td>13853140394</td>\n",
       "      <td>881875222</td>\n",
       "      <td>0.09537</td>\n",
       "    </tr>\n",
       "    <tr>\n",
       "      <th>14</th>\n",
       "      <td>Toncoin</td>\n",
       "      <td>TON</td>\n",
       "      <td>5.390000</td>\n",
       "      <td>13689610316</td>\n",
       "      <td>450560497</td>\n",
       "      <td>-0.47832</td>\n",
       "    </tr>\n",
       "    <tr>\n",
       "      <th>15</th>\n",
       "      <td>Wrapped stETH</td>\n",
       "      <td>WSTETH</td>\n",
       "      <td>3695.530000</td>\n",
       "      <td>13351799014</td>\n",
       "      <td>64819227</td>\n",
       "      <td>0.37393</td>\n",
       "    </tr>\n",
       "    <tr>\n",
       "      <th>16</th>\n",
       "      <td>Bitcoin Cash</td>\n",
       "      <td>BCH</td>\n",
       "      <td>524.560000</td>\n",
       "      <td>10378691939</td>\n",
       "      <td>1246623935</td>\n",
       "      <td>19.25482</td>\n",
       "    </tr>\n",
       "    <tr>\n",
       "      <th>17</th>\n",
       "      <td>Sui</td>\n",
       "      <td>SUI</td>\n",
       "      <td>3.580000</td>\n",
       "      <td>10161891584</td>\n",
       "      <td>1891903670</td>\n",
       "      <td>-6.41687</td>\n",
       "    </tr>\n",
       "    <tr>\n",
       "      <th>18</th>\n",
       "      <td>Chainlink</td>\n",
       "      <td>LINK</td>\n",
       "      <td>14.620000</td>\n",
       "      <td>9161692896</td>\n",
       "      <td>1068272652</td>\n",
       "      <td>0.24561</td>\n",
       "    </tr>\n",
       "    <tr>\n",
       "      <th>19</th>\n",
       "      <td>WETH</td>\n",
       "      <td>WETH</td>\n",
       "      <td>3119.750000</td>\n",
       "      <td>9109600387</td>\n",
       "      <td>1555484124</td>\n",
       "      <td>0.36408</td>\n",
       "    </tr>\n",
       "    <tr>\n",
       "      <th>20</th>\n",
       "      <td>Pepe</td>\n",
       "      <td>PEPE</td>\n",
       "      <td>0.000020</td>\n",
       "      <td>8184522541</td>\n",
       "      <td>5128678541</td>\n",
       "      <td>-3.83080</td>\n",
       "    </tr>\n",
       "    <tr>\n",
       "      <th>21</th>\n",
       "      <td>Polkadot</td>\n",
       "      <td>DOT</td>\n",
       "      <td>5.700000</td>\n",
       "      <td>8179205878</td>\n",
       "      <td>760967000</td>\n",
       "      <td>-2.90049</td>\n",
       "    </tr>\n",
       "    <tr>\n",
       "      <th>22</th>\n",
       "      <td>LEO Token</td>\n",
       "      <td>LEO</td>\n",
       "      <td>8.520000</td>\n",
       "      <td>7884736666</td>\n",
       "      <td>3451296</td>\n",
       "      <td>1.39445</td>\n",
       "    </tr>\n",
       "    <tr>\n",
       "      <th>23</th>\n",
       "      <td>Stellar</td>\n",
       "      <td>XLM</td>\n",
       "      <td>0.238920</td>\n",
       "      <td>7160532921</td>\n",
       "      <td>1745877374</td>\n",
       "      <td>0.51849</td>\n",
       "    </tr>\n",
       "    <tr>\n",
       "      <th>24</th>\n",
       "      <td>NEAR Protocol</td>\n",
       "      <td>NEAR</td>\n",
       "      <td>5.530000</td>\n",
       "      <td>6711663928</td>\n",
       "      <td>707873554</td>\n",
       "      <td>-1.40606</td>\n",
       "    </tr>\n",
       "    <tr>\n",
       "      <th>25</th>\n",
       "      <td>Litecoin</td>\n",
       "      <td>LTC</td>\n",
       "      <td>88.390000</td>\n",
       "      <td>6646819042</td>\n",
       "      <td>1041838608</td>\n",
       "      <td>3.13648</td>\n",
       "    </tr>\n",
       "    <tr>\n",
       "      <th>26</th>\n",
       "      <td>Aptos</td>\n",
       "      <td>APT</td>\n",
       "      <td>11.680000</td>\n",
       "      <td>6203794821</td>\n",
       "      <td>1418015773</td>\n",
       "      <td>1.32049</td>\n",
       "    </tr>\n",
       "    <tr>\n",
       "      <th>27</th>\n",
       "      <td>Wrapped eETH</td>\n",
       "      <td>WEETH</td>\n",
       "      <td>3286.310000</td>\n",
       "      <td>5640151279</td>\n",
       "      <td>122432638</td>\n",
       "      <td>0.46678</td>\n",
       "    </tr>\n",
       "    <tr>\n",
       "      <th>28</th>\n",
       "      <td>Uniswap</td>\n",
       "      <td>UNI</td>\n",
       "      <td>8.860000</td>\n",
       "      <td>5302783295</td>\n",
       "      <td>455622916</td>\n",
       "      <td>-3.72648</td>\n",
       "    </tr>\n",
       "    <tr>\n",
       "      <th>29</th>\n",
       "      <td>USDS</td>\n",
       "      <td>USDS</td>\n",
       "      <td>1.005000</td>\n",
       "      <td>5279162060</td>\n",
       "      <td>7611392</td>\n",
       "      <td>0.49013</td>\n",
       "    </tr>\n",
       "    <tr>\n",
       "      <th>30</th>\n",
       "      <td>Cronos</td>\n",
       "      <td>CRO</td>\n",
       "      <td>0.175228</td>\n",
       "      <td>4752720047</td>\n",
       "      <td>99276020</td>\n",
       "      <td>-2.36248</td>\n",
       "    </tr>\n",
       "    <tr>\n",
       "      <th>31</th>\n",
       "      <td>Hedera</td>\n",
       "      <td>HBAR</td>\n",
       "      <td>0.126080</td>\n",
       "      <td>4751330883</td>\n",
       "      <td>1181181770</td>\n",
       "      <td>2.70057</td>\n",
       "    </tr>\n",
       "    <tr>\n",
       "      <th>32</th>\n",
       "      <td>Internet Computer</td>\n",
       "      <td>ICP</td>\n",
       "      <td>9.050000</td>\n",
       "      <td>4278567963</td>\n",
       "      <td>241725174</td>\n",
       "      <td>-1.62428</td>\n",
       "    </tr>\n",
       "    <tr>\n",
       "      <th>33</th>\n",
       "      <td>Ethereum Classic</td>\n",
       "      <td>ETC</td>\n",
       "      <td>26.690000</td>\n",
       "      <td>3994514685</td>\n",
       "      <td>432475232</td>\n",
       "      <td>3.34105</td>\n",
       "    </tr>\n",
       "    <tr>\n",
       "      <th>34</th>\n",
       "      <td>Bonk</td>\n",
       "      <td>BONK</td>\n",
       "      <td>0.000053</td>\n",
       "      <td>3951094904</td>\n",
       "      <td>2364415921</td>\n",
       "      <td>-4.72562</td>\n",
       "    </tr>\n",
       "    <tr>\n",
       "      <th>35</th>\n",
       "      <td>Kaspa</td>\n",
       "      <td>KAS</td>\n",
       "      <td>0.151250</td>\n",
       "      <td>3802342025</td>\n",
       "      <td>169040330</td>\n",
       "      <td>-5.34709</td>\n",
       "    </tr>\n",
       "    <tr>\n",
       "      <th>36</th>\n",
       "      <td>Render</td>\n",
       "      <td>RENDER</td>\n",
       "      <td>7.340000</td>\n",
       "      <td>3802197857</td>\n",
       "      <td>456265056</td>\n",
       "      <td>-9.47814</td>\n",
       "    </tr>\n",
       "    <tr>\n",
       "      <th>37</th>\n",
       "      <td>Bittensor</td>\n",
       "      <td>TAO</td>\n",
       "      <td>487.150000</td>\n",
       "      <td>3584806118</td>\n",
       "      <td>305363424</td>\n",
       "      <td>4.36962</td>\n",
       "    </tr>\n",
       "    <tr>\n",
       "      <th>38</th>\n",
       "      <td>Ethena USDe</td>\n",
       "      <td>USDE</td>\n",
       "      <td>1.005000</td>\n",
       "      <td>3580487093</td>\n",
       "      <td>257023394</td>\n",
       "      <td>0.19114</td>\n",
       "    </tr>\n",
       "    <tr>\n",
       "      <th>39</th>\n",
       "      <td>POL (ex-MATIC)</td>\n",
       "      <td>POL</td>\n",
       "      <td>0.439283</td>\n",
       "      <td>3491524313</td>\n",
       "      <td>425412883</td>\n",
       "      <td>1.89361</td>\n",
       "    </tr>\n",
       "    <tr>\n",
       "      <th>40</th>\n",
       "      <td>WhiteBIT Coin</td>\n",
       "      <td>WBT</td>\n",
       "      <td>24.180000</td>\n",
       "      <td>3476876863</td>\n",
       "      <td>30009135</td>\n",
       "      <td>1.61216</td>\n",
       "    </tr>\n",
       "    <tr>\n",
       "      <th>41</th>\n",
       "      <td>Dai</td>\n",
       "      <td>DAI</td>\n",
       "      <td>1.002000</td>\n",
       "      <td>3438353951</td>\n",
       "      <td>139298435</td>\n",
       "      <td>0.23338</td>\n",
       "    </tr>\n",
       "    <tr>\n",
       "      <th>42</th>\n",
       "      <td>MANTRA</td>\n",
       "      <td>OM</td>\n",
       "      <td>3.650000</td>\n",
       "      <td>3285599538</td>\n",
       "      <td>283735555</td>\n",
       "      <td>-8.65479</td>\n",
       "    </tr>\n",
       "    <tr>\n",
       "      <th>43</th>\n",
       "      <td>Artificial Superintelligence Alliance</td>\n",
       "      <td>FET</td>\n",
       "      <td>1.240000</td>\n",
       "      <td>3248017312</td>\n",
       "      <td>471427702</td>\n",
       "      <td>-2.66937</td>\n",
       "    </tr>\n",
       "    <tr>\n",
       "      <th>44</th>\n",
       "      <td>dogwifhat</td>\n",
       "      <td>WIF</td>\n",
       "      <td>3.210000</td>\n",
       "      <td>3195392612</td>\n",
       "      <td>1053588561</td>\n",
       "      <td>-2.78705</td>\n",
       "    </tr>\n",
       "    <tr>\n",
       "      <th>45</th>\n",
       "      <td>Monero</td>\n",
       "      <td>XMR</td>\n",
       "      <td>162.070000</td>\n",
       "      <td>2989739168</td>\n",
       "      <td>73260697</td>\n",
       "      <td>1.28626</td>\n",
       "    </tr>\n",
       "    <tr>\n",
       "      <th>46</th>\n",
       "      <td>Stacks</td>\n",
       "      <td>STX</td>\n",
       "      <td>1.920000</td>\n",
       "      <td>2875166518</td>\n",
       "      <td>305199075</td>\n",
       "      <td>3.97987</td>\n",
       "    </tr>\n",
       "    <tr>\n",
       "      <th>47</th>\n",
       "      <td>Arbitrum</td>\n",
       "      <td>ARB</td>\n",
       "      <td>0.691695</td>\n",
       "      <td>2823280485</td>\n",
       "      <td>787067522</td>\n",
       "      <td>1.11182</td>\n",
       "    </tr>\n",
       "    <tr>\n",
       "      <th>48</th>\n",
       "      <td>OKB</td>\n",
       "      <td>OKB</td>\n",
       "      <td>44.520000</td>\n",
       "      <td>2671338937</td>\n",
       "      <td>8414958</td>\n",
       "      <td>1.65095</td>\n",
       "    </tr>\n",
       "    <tr>\n",
       "      <th>49</th>\n",
       "      <td>Filecoin</td>\n",
       "      <td>FIL</td>\n",
       "      <td>4.400000</td>\n",
       "      <td>2623189808</td>\n",
       "      <td>460882295</td>\n",
       "      <td>0.87175</td>\n",
       "    </tr>\n",
       "  </tbody>\n",
       "</table>\n",
       "</div>"
      ],
      "text/plain": [
       "                      Cryptocurrency Name  Symbol  Current Price (USD)  \\\n",
       "0                                 Bitcoin     BTC         97406.000000   \n",
       "1                                Ethereum     ETH          3122.800000   \n",
       "2                                  Tether    USDT             1.003000   \n",
       "3                                  Solana     SOL           239.120000   \n",
       "4                                     BNB     BNB           610.670000   \n",
       "5                                     XRP     XRP             1.120000   \n",
       "6                                Dogecoin    DOGE             0.384871   \n",
       "7                                    USDC    USDC             1.002000   \n",
       "8                       Lido Staked Ether   STETH          3120.740000   \n",
       "9                                 Cardano     ADA             0.791969   \n",
       "10                                   TRON     TRX             0.197524   \n",
       "11                              Shiba Inu    SHIB             0.000024   \n",
       "12                        Wrapped Bitcoin    WBTC         97000.000000   \n",
       "13                              Avalanche    AVAX            34.040000   \n",
       "14                                Toncoin     TON             5.390000   \n",
       "15                          Wrapped stETH  WSTETH          3695.530000   \n",
       "16                           Bitcoin Cash     BCH           524.560000   \n",
       "17                                    Sui     SUI             3.580000   \n",
       "18                              Chainlink    LINK            14.620000   \n",
       "19                                   WETH    WETH          3119.750000   \n",
       "20                                   Pepe    PEPE             0.000020   \n",
       "21                               Polkadot     DOT             5.700000   \n",
       "22                              LEO Token     LEO             8.520000   \n",
       "23                                Stellar     XLM             0.238920   \n",
       "24                          NEAR Protocol    NEAR             5.530000   \n",
       "25                               Litecoin     LTC            88.390000   \n",
       "26                                  Aptos     APT            11.680000   \n",
       "27                           Wrapped eETH   WEETH          3286.310000   \n",
       "28                                Uniswap     UNI             8.860000   \n",
       "29                                   USDS    USDS             1.005000   \n",
       "30                                 Cronos     CRO             0.175228   \n",
       "31                                 Hedera    HBAR             0.126080   \n",
       "32                      Internet Computer     ICP             9.050000   \n",
       "33                       Ethereum Classic     ETC            26.690000   \n",
       "34                                   Bonk    BONK             0.000053   \n",
       "35                                  Kaspa     KAS             0.151250   \n",
       "36                                 Render  RENDER             7.340000   \n",
       "37                              Bittensor     TAO           487.150000   \n",
       "38                            Ethena USDe    USDE             1.005000   \n",
       "39                         POL (ex-MATIC)     POL             0.439283   \n",
       "40                          WhiteBIT Coin     WBT            24.180000   \n",
       "41                                    Dai     DAI             1.002000   \n",
       "42                                 MANTRA      OM             3.650000   \n",
       "43  Artificial Superintelligence Alliance     FET             1.240000   \n",
       "44                              dogwifhat     WIF             3.210000   \n",
       "45                                 Monero     XMR           162.070000   \n",
       "46                                 Stacks     STX             1.920000   \n",
       "47                               Arbitrum     ARB             0.691695   \n",
       "48                                    OKB     OKB            44.520000   \n",
       "49                               Filecoin     FIL             4.400000   \n",
       "\n",
       "    Market Capitalization (USD)  24h Trading Volume (USD)  \\\n",
       "0                 1926836401263              102843314368   \n",
       "1                  376020394290               36667118366   \n",
       "2                  130535639607              101782355354   \n",
       "3                  113486556745                9650040509   \n",
       "4                   89073948659                1810913555   \n",
       "5                   63517958385                7633616137   \n",
       "6                   56524207859               10483959674   \n",
       "7                   37947214574                9806782821   \n",
       "8                   30453296132                 120502334   \n",
       "9                   28344094757                3902471565   \n",
       "10                  17054012258                 990719076   \n",
       "11                  14218566831                1363727690   \n",
       "12                  14176498884                 679230078   \n",
       "13                  13853140394                 881875222   \n",
       "14                  13689610316                 450560497   \n",
       "15                  13351799014                  64819227   \n",
       "16                  10378691939                1246623935   \n",
       "17                  10161891584                1891903670   \n",
       "18                   9161692896                1068272652   \n",
       "19                   9109600387                1555484124   \n",
       "20                   8184522541                5128678541   \n",
       "21                   8179205878                 760967000   \n",
       "22                   7884736666                   3451296   \n",
       "23                   7160532921                1745877374   \n",
       "24                   6711663928                 707873554   \n",
       "25                   6646819042                1041838608   \n",
       "26                   6203794821                1418015773   \n",
       "27                   5640151279                 122432638   \n",
       "28                   5302783295                 455622916   \n",
       "29                   5279162060                   7611392   \n",
       "30                   4752720047                  99276020   \n",
       "31                   4751330883                1181181770   \n",
       "32                   4278567963                 241725174   \n",
       "33                   3994514685                 432475232   \n",
       "34                   3951094904                2364415921   \n",
       "35                   3802342025                 169040330   \n",
       "36                   3802197857                 456265056   \n",
       "37                   3584806118                 305363424   \n",
       "38                   3580487093                 257023394   \n",
       "39                   3491524313                 425412883   \n",
       "40                   3476876863                  30009135   \n",
       "41                   3438353951                 139298435   \n",
       "42                   3285599538                 283735555   \n",
       "43                   3248017312                 471427702   \n",
       "44                   3195392612                1053588561   \n",
       "45                   2989739168                  73260697   \n",
       "46                   2875166518                 305199075   \n",
       "47                   2823280485                 787067522   \n",
       "48                   2671338937                   8414958   \n",
       "49                   2623189808                 460882295   \n",
       "\n",
       "    Price Change (24h %)  \n",
       "0                5.14084  \n",
       "1                0.37862  \n",
       "2                0.21210  \n",
       "3                1.56756  \n",
       "4               -0.39764  \n",
       "5                2.11578  \n",
       "6               -1.40427  \n",
       "7                0.25067  \n",
       "8                0.27983  \n",
       "9                0.01925  \n",
       "10              -0.28956  \n",
       "11              -1.23580  \n",
       "12               5.08036  \n",
       "13               0.09537  \n",
       "14              -0.47832  \n",
       "15               0.37393  \n",
       "16              19.25482  \n",
       "17              -6.41687  \n",
       "18               0.24561  \n",
       "19               0.36408  \n",
       "20              -3.83080  \n",
       "21              -2.90049  \n",
       "22               1.39445  \n",
       "23               0.51849  \n",
       "24              -1.40606  \n",
       "25               3.13648  \n",
       "26               1.32049  \n",
       "27               0.46678  \n",
       "28              -3.72648  \n",
       "29               0.49013  \n",
       "30              -2.36248  \n",
       "31               2.70057  \n",
       "32              -1.62428  \n",
       "33               3.34105  \n",
       "34              -4.72562  \n",
       "35              -5.34709  \n",
       "36              -9.47814  \n",
       "37               4.36962  \n",
       "38               0.19114  \n",
       "39               1.89361  \n",
       "40               1.61216  \n",
       "41               0.23338  \n",
       "42              -8.65479  \n",
       "43              -2.66937  \n",
       "44              -2.78705  \n",
       "45               1.28626  \n",
       "46               3.97987  \n",
       "47               1.11182  \n",
       "48               1.65095  \n",
       "49               0.87175  "
      ]
     },
     "execution_count": 12,
     "metadata": {},
     "output_type": "execute_result"
    }
   ],
   "source": [
    "top_cryptos"
   ]
  },
  {
   "cell_type": "code",
   "execution_count": 15,
   "metadata": {},
   "outputs": [
    {
     "name": "stdout",
     "output_type": "stream",
     "text": [
      "\n",
      "--- Top 5 Cryptocurrencies by Market Capitalization ---\n",
      "  Cryptocurrency Name  Market Capitalization (USD)\n",
      "0             Bitcoin                1926836401263\n",
      "1            Ethereum                 376020394290\n",
      "2              Tether                 130535639607\n",
      "3              Solana                 113486556745\n",
      "4                 BNB                  89073948659\n",
      "\n",
      "--- Average Price of the Top 50 Cryptocurrencies ---\n",
      "Average Price: $4,261.93\n",
      "\n",
      "--- 24-hour Percentage Price Change Analysis ---\n",
      "Highest 24h Change: Bitcoin Cash (19.25%)\n",
      "Lowest 24h Change: Render (-9.48%)\n"
     ]
    }
   ],
   "source": [
    "def analyze_cryptocurrencies(df):\n",
    "    print(\"\\n--- Top 5 Cryptocurrencies by Market Capitalization ---\")\n",
    "    top_5 = df.nlargest(5, \"Market Capitalization (USD)\")\n",
    "    print(top_5[[\"Cryptocurrency Name\", \"Market Capitalization (USD)\"]])\n",
    "\n",
    "    print(\"\\n--- Average Price of the Top 50 Cryptocurrencies ---\")\n",
    "    avg_price = df[\"Current Price (USD)\"].mean()\n",
    "    print(f\"Average Price: ${avg_price:,.2f}\")\n",
    "\n",
    "    print(\"\\n--- 24-hour Percentage Price Change Analysis ---\")\n",
    "    max_change = df.loc[df[\"Price Change (24h %)\"].idxmax()]\n",
    "    min_change = df.loc[df[\"Price Change (24h %)\"].idxmin()]\n",
    "    print(f\"Highest 24h Change: {max_change['Cryptocurrency Name']} ({max_change['Price Change (24h %)']:.2f}%)\")\n",
    "    print(f\"Lowest 24h Change: {min_change['Cryptocurrency Name']} ({min_change['Price Change (24h %)']:.2f}%)\")\n",
    "\n",
    "analyze_cryptocurrencies(top_cryptos)"
   ]
  },
  {
   "cell_type": "code",
   "execution_count": 14,
   "metadata": {},
   "outputs": [
    {
     "data": {
      "application/vnd.plotly.v1+json": {
       "config": {
        "plotlyServerURL": "https://plot.ly"
       },
       "data": [
        {
         "marker": {
          "color": "rgb(55, 83, 109)"
         },
         "name": "Top 5 Cryptos",
         "orientation": "h",
         "type": "bar",
         "x": [
          1926836401263,
          376020394290,
          130535639607,
          113486556745,
          89073948659
         ],
         "y": [
          "Bitcoin",
          "Ethereum",
          "Tether",
          "Solana",
          "BNB"
         ]
        }
       ],
       "layout": {
        "template": {
         "data": {
          "bar": [
           {
            "error_x": {
             "color": "#f2f5fa"
            },
            "error_y": {
             "color": "#f2f5fa"
            },
            "marker": {
             "line": {
              "color": "rgb(17,17,17)",
              "width": 0.5
             },
             "pattern": {
              "fillmode": "overlay",
              "size": 10,
              "solidity": 0.2
             }
            },
            "type": "bar"
           }
          ],
          "barpolar": [
           {
            "marker": {
             "line": {
              "color": "rgb(17,17,17)",
              "width": 0.5
             },
             "pattern": {
              "fillmode": "overlay",
              "size": 10,
              "solidity": 0.2
             }
            },
            "type": "barpolar"
           }
          ],
          "carpet": [
           {
            "aaxis": {
             "endlinecolor": "#A2B1C6",
             "gridcolor": "#506784",
             "linecolor": "#506784",
             "minorgridcolor": "#506784",
             "startlinecolor": "#A2B1C6"
            },
            "baxis": {
             "endlinecolor": "#A2B1C6",
             "gridcolor": "#506784",
             "linecolor": "#506784",
             "minorgridcolor": "#506784",
             "startlinecolor": "#A2B1C6"
            },
            "type": "carpet"
           }
          ],
          "choropleth": [
           {
            "colorbar": {
             "outlinewidth": 0,
             "ticks": ""
            },
            "type": "choropleth"
           }
          ],
          "contour": [
           {
            "colorbar": {
             "outlinewidth": 0,
             "ticks": ""
            },
            "colorscale": [
             [
              0,
              "#0d0887"
             ],
             [
              0.1111111111111111,
              "#46039f"
             ],
             [
              0.2222222222222222,
              "#7201a8"
             ],
             [
              0.3333333333333333,
              "#9c179e"
             ],
             [
              0.4444444444444444,
              "#bd3786"
             ],
             [
              0.5555555555555556,
              "#d8576b"
             ],
             [
              0.6666666666666666,
              "#ed7953"
             ],
             [
              0.7777777777777778,
              "#fb9f3a"
             ],
             [
              0.8888888888888888,
              "#fdca26"
             ],
             [
              1,
              "#f0f921"
             ]
            ],
            "type": "contour"
           }
          ],
          "contourcarpet": [
           {
            "colorbar": {
             "outlinewidth": 0,
             "ticks": ""
            },
            "type": "contourcarpet"
           }
          ],
          "heatmap": [
           {
            "colorbar": {
             "outlinewidth": 0,
             "ticks": ""
            },
            "colorscale": [
             [
              0,
              "#0d0887"
             ],
             [
              0.1111111111111111,
              "#46039f"
             ],
             [
              0.2222222222222222,
              "#7201a8"
             ],
             [
              0.3333333333333333,
              "#9c179e"
             ],
             [
              0.4444444444444444,
              "#bd3786"
             ],
             [
              0.5555555555555556,
              "#d8576b"
             ],
             [
              0.6666666666666666,
              "#ed7953"
             ],
             [
              0.7777777777777778,
              "#fb9f3a"
             ],
             [
              0.8888888888888888,
              "#fdca26"
             ],
             [
              1,
              "#f0f921"
             ]
            ],
            "type": "heatmap"
           }
          ],
          "heatmapgl": [
           {
            "colorbar": {
             "outlinewidth": 0,
             "ticks": ""
            },
            "colorscale": [
             [
              0,
              "#0d0887"
             ],
             [
              0.1111111111111111,
              "#46039f"
             ],
             [
              0.2222222222222222,
              "#7201a8"
             ],
             [
              0.3333333333333333,
              "#9c179e"
             ],
             [
              0.4444444444444444,
              "#bd3786"
             ],
             [
              0.5555555555555556,
              "#d8576b"
             ],
             [
              0.6666666666666666,
              "#ed7953"
             ],
             [
              0.7777777777777778,
              "#fb9f3a"
             ],
             [
              0.8888888888888888,
              "#fdca26"
             ],
             [
              1,
              "#f0f921"
             ]
            ],
            "type": "heatmapgl"
           }
          ],
          "histogram": [
           {
            "marker": {
             "pattern": {
              "fillmode": "overlay",
              "size": 10,
              "solidity": 0.2
             }
            },
            "type": "histogram"
           }
          ],
          "histogram2d": [
           {
            "colorbar": {
             "outlinewidth": 0,
             "ticks": ""
            },
            "colorscale": [
             [
              0,
              "#0d0887"
             ],
             [
              0.1111111111111111,
              "#46039f"
             ],
             [
              0.2222222222222222,
              "#7201a8"
             ],
             [
              0.3333333333333333,
              "#9c179e"
             ],
             [
              0.4444444444444444,
              "#bd3786"
             ],
             [
              0.5555555555555556,
              "#d8576b"
             ],
             [
              0.6666666666666666,
              "#ed7953"
             ],
             [
              0.7777777777777778,
              "#fb9f3a"
             ],
             [
              0.8888888888888888,
              "#fdca26"
             ],
             [
              1,
              "#f0f921"
             ]
            ],
            "type": "histogram2d"
           }
          ],
          "histogram2dcontour": [
           {
            "colorbar": {
             "outlinewidth": 0,
             "ticks": ""
            },
            "colorscale": [
             [
              0,
              "#0d0887"
             ],
             [
              0.1111111111111111,
              "#46039f"
             ],
             [
              0.2222222222222222,
              "#7201a8"
             ],
             [
              0.3333333333333333,
              "#9c179e"
             ],
             [
              0.4444444444444444,
              "#bd3786"
             ],
             [
              0.5555555555555556,
              "#d8576b"
             ],
             [
              0.6666666666666666,
              "#ed7953"
             ],
             [
              0.7777777777777778,
              "#fb9f3a"
             ],
             [
              0.8888888888888888,
              "#fdca26"
             ],
             [
              1,
              "#f0f921"
             ]
            ],
            "type": "histogram2dcontour"
           }
          ],
          "mesh3d": [
           {
            "colorbar": {
             "outlinewidth": 0,
             "ticks": ""
            },
            "type": "mesh3d"
           }
          ],
          "parcoords": [
           {
            "line": {
             "colorbar": {
              "outlinewidth": 0,
              "ticks": ""
             }
            },
            "type": "parcoords"
           }
          ],
          "pie": [
           {
            "automargin": true,
            "type": "pie"
           }
          ],
          "scatter": [
           {
            "marker": {
             "line": {
              "color": "#283442"
             }
            },
            "type": "scatter"
           }
          ],
          "scatter3d": [
           {
            "line": {
             "colorbar": {
              "outlinewidth": 0,
              "ticks": ""
             }
            },
            "marker": {
             "colorbar": {
              "outlinewidth": 0,
              "ticks": ""
             }
            },
            "type": "scatter3d"
           }
          ],
          "scattercarpet": [
           {
            "marker": {
             "colorbar": {
              "outlinewidth": 0,
              "ticks": ""
             }
            },
            "type": "scattercarpet"
           }
          ],
          "scattergeo": [
           {
            "marker": {
             "colorbar": {
              "outlinewidth": 0,
              "ticks": ""
             }
            },
            "type": "scattergeo"
           }
          ],
          "scattergl": [
           {
            "marker": {
             "line": {
              "color": "#283442"
             }
            },
            "type": "scattergl"
           }
          ],
          "scattermapbox": [
           {
            "marker": {
             "colorbar": {
              "outlinewidth": 0,
              "ticks": ""
             }
            },
            "type": "scattermapbox"
           }
          ],
          "scatterpolar": [
           {
            "marker": {
             "colorbar": {
              "outlinewidth": 0,
              "ticks": ""
             }
            },
            "type": "scatterpolar"
           }
          ],
          "scatterpolargl": [
           {
            "marker": {
             "colorbar": {
              "outlinewidth": 0,
              "ticks": ""
             }
            },
            "type": "scatterpolargl"
           }
          ],
          "scatterternary": [
           {
            "marker": {
             "colorbar": {
              "outlinewidth": 0,
              "ticks": ""
             }
            },
            "type": "scatterternary"
           }
          ],
          "surface": [
           {
            "colorbar": {
             "outlinewidth": 0,
             "ticks": ""
            },
            "colorscale": [
             [
              0,
              "#0d0887"
             ],
             [
              0.1111111111111111,
              "#46039f"
             ],
             [
              0.2222222222222222,
              "#7201a8"
             ],
             [
              0.3333333333333333,
              "#9c179e"
             ],
             [
              0.4444444444444444,
              "#bd3786"
             ],
             [
              0.5555555555555556,
              "#d8576b"
             ],
             [
              0.6666666666666666,
              "#ed7953"
             ],
             [
              0.7777777777777778,
              "#fb9f3a"
             ],
             [
              0.8888888888888888,
              "#fdca26"
             ],
             [
              1,
              "#f0f921"
             ]
            ],
            "type": "surface"
           }
          ],
          "table": [
           {
            "cells": {
             "fill": {
              "color": "#506784"
             },
             "line": {
              "color": "rgb(17,17,17)"
             }
            },
            "header": {
             "fill": {
              "color": "#2a3f5f"
             },
             "line": {
              "color": "rgb(17,17,17)"
             }
            },
            "type": "table"
           }
          ]
         },
         "layout": {
          "annotationdefaults": {
           "arrowcolor": "#f2f5fa",
           "arrowhead": 0,
           "arrowwidth": 1
          },
          "autotypenumbers": "strict",
          "coloraxis": {
           "colorbar": {
            "outlinewidth": 0,
            "ticks": ""
           }
          },
          "colorscale": {
           "diverging": [
            [
             0,
             "#8e0152"
            ],
            [
             0.1,
             "#c51b7d"
            ],
            [
             0.2,
             "#de77ae"
            ],
            [
             0.3,
             "#f1b6da"
            ],
            [
             0.4,
             "#fde0ef"
            ],
            [
             0.5,
             "#f7f7f7"
            ],
            [
             0.6,
             "#e6f5d0"
            ],
            [
             0.7,
             "#b8e186"
            ],
            [
             0.8,
             "#7fbc41"
            ],
            [
             0.9,
             "#4d9221"
            ],
            [
             1,
             "#276419"
            ]
           ],
           "sequential": [
            [
             0,
             "#0d0887"
            ],
            [
             0.1111111111111111,
             "#46039f"
            ],
            [
             0.2222222222222222,
             "#7201a8"
            ],
            [
             0.3333333333333333,
             "#9c179e"
            ],
            [
             0.4444444444444444,
             "#bd3786"
            ],
            [
             0.5555555555555556,
             "#d8576b"
            ],
            [
             0.6666666666666666,
             "#ed7953"
            ],
            [
             0.7777777777777778,
             "#fb9f3a"
            ],
            [
             0.8888888888888888,
             "#fdca26"
            ],
            [
             1,
             "#f0f921"
            ]
           ],
           "sequentialminus": [
            [
             0,
             "#0d0887"
            ],
            [
             0.1111111111111111,
             "#46039f"
            ],
            [
             0.2222222222222222,
             "#7201a8"
            ],
            [
             0.3333333333333333,
             "#9c179e"
            ],
            [
             0.4444444444444444,
             "#bd3786"
            ],
            [
             0.5555555555555556,
             "#d8576b"
            ],
            [
             0.6666666666666666,
             "#ed7953"
            ],
            [
             0.7777777777777778,
             "#fb9f3a"
            ],
            [
             0.8888888888888888,
             "#fdca26"
            ],
            [
             1,
             "#f0f921"
            ]
           ]
          },
          "colorway": [
           "#636efa",
           "#EF553B",
           "#00cc96",
           "#ab63fa",
           "#FFA15A",
           "#19d3f3",
           "#FF6692",
           "#B6E880",
           "#FF97FF",
           "#FECB52"
          ],
          "font": {
           "color": "#f2f5fa"
          },
          "geo": {
           "bgcolor": "rgb(17,17,17)",
           "lakecolor": "rgb(17,17,17)",
           "landcolor": "rgb(17,17,17)",
           "showlakes": true,
           "showland": true,
           "subunitcolor": "#506784"
          },
          "hoverlabel": {
           "align": "left"
          },
          "hovermode": "closest",
          "mapbox": {
           "style": "dark"
          },
          "paper_bgcolor": "rgb(17,17,17)",
          "plot_bgcolor": "rgb(17,17,17)",
          "polar": {
           "angularaxis": {
            "gridcolor": "#506784",
            "linecolor": "#506784",
            "ticks": ""
           },
           "bgcolor": "rgb(17,17,17)",
           "radialaxis": {
            "gridcolor": "#506784",
            "linecolor": "#506784",
            "ticks": ""
           }
          },
          "scene": {
           "xaxis": {
            "backgroundcolor": "rgb(17,17,17)",
            "gridcolor": "#506784",
            "gridwidth": 2,
            "linecolor": "#506784",
            "showbackground": true,
            "ticks": "",
            "zerolinecolor": "#C8D4E3"
           },
           "yaxis": {
            "backgroundcolor": "rgb(17,17,17)",
            "gridcolor": "#506784",
            "gridwidth": 2,
            "linecolor": "#506784",
            "showbackground": true,
            "ticks": "",
            "zerolinecolor": "#C8D4E3"
           },
           "zaxis": {
            "backgroundcolor": "rgb(17,17,17)",
            "gridcolor": "#506784",
            "gridwidth": 2,
            "linecolor": "#506784",
            "showbackground": true,
            "ticks": "",
            "zerolinecolor": "#C8D4E3"
           }
          },
          "shapedefaults": {
           "line": {
            "color": "#f2f5fa"
           }
          },
          "sliderdefaults": {
           "bgcolor": "#C8D4E3",
           "bordercolor": "rgb(17,17,17)",
           "borderwidth": 1,
           "tickwidth": 0
          },
          "ternary": {
           "aaxis": {
            "gridcolor": "#506784",
            "linecolor": "#506784",
            "ticks": ""
           },
           "baxis": {
            "gridcolor": "#506784",
            "linecolor": "#506784",
            "ticks": ""
           },
           "bgcolor": "rgb(17,17,17)",
           "caxis": {
            "gridcolor": "#506784",
            "linecolor": "#506784",
            "ticks": ""
           }
          },
          "title": {
           "x": 0.05
          },
          "updatemenudefaults": {
           "bgcolor": "#506784",
           "borderwidth": 0
          },
          "xaxis": {
           "automargin": true,
           "gridcolor": "#283442",
           "linecolor": "#506784",
           "ticks": "",
           "title": {
            "standoff": 15
           },
           "zerolinecolor": "#283442",
           "zerolinewidth": 2
          },
          "yaxis": {
           "automargin": true,
           "gridcolor": "#283442",
           "linecolor": "#506784",
           "ticks": "",
           "title": {
            "standoff": 15
           },
           "zerolinecolor": "#283442",
           "zerolinewidth": 2
          }
         }
        },
        "title": {
         "text": "Top 5 Cryptocurrencies by Market Capitalization"
        },
        "xaxis": {
         "title": {
          "text": "Market Capitalization (USD)"
         }
        },
        "yaxis": {
         "title": {
          "text": "Cryptocurrency"
         }
        }
       }
      }
     },
     "metadata": {},
     "output_type": "display_data"
    },
    {
     "data": {
      "application/vnd.plotly.v1+json": {
       "config": {
        "plotlyServerURL": "https://plot.ly"
       },
       "data": [
        {
         "marker": {
          "color": [
           "green",
           "red"
          ]
         },
         "name": "24h Price Change",
         "type": "bar",
         "x": [
          "Bitcoin Cash",
          "Render"
         ],
         "y": [
          19.25482,
          -9.47814
         ]
        }
       ],
       "layout": {
        "template": {
         "data": {
          "bar": [
           {
            "error_x": {
             "color": "#f2f5fa"
            },
            "error_y": {
             "color": "#f2f5fa"
            },
            "marker": {
             "line": {
              "color": "rgb(17,17,17)",
              "width": 0.5
             },
             "pattern": {
              "fillmode": "overlay",
              "size": 10,
              "solidity": 0.2
             }
            },
            "type": "bar"
           }
          ],
          "barpolar": [
           {
            "marker": {
             "line": {
              "color": "rgb(17,17,17)",
              "width": 0.5
             },
             "pattern": {
              "fillmode": "overlay",
              "size": 10,
              "solidity": 0.2
             }
            },
            "type": "barpolar"
           }
          ],
          "carpet": [
           {
            "aaxis": {
             "endlinecolor": "#A2B1C6",
             "gridcolor": "#506784",
             "linecolor": "#506784",
             "minorgridcolor": "#506784",
             "startlinecolor": "#A2B1C6"
            },
            "baxis": {
             "endlinecolor": "#A2B1C6",
             "gridcolor": "#506784",
             "linecolor": "#506784",
             "minorgridcolor": "#506784",
             "startlinecolor": "#A2B1C6"
            },
            "type": "carpet"
           }
          ],
          "choropleth": [
           {
            "colorbar": {
             "outlinewidth": 0,
             "ticks": ""
            },
            "type": "choropleth"
           }
          ],
          "contour": [
           {
            "colorbar": {
             "outlinewidth": 0,
             "ticks": ""
            },
            "colorscale": [
             [
              0,
              "#0d0887"
             ],
             [
              0.1111111111111111,
              "#46039f"
             ],
             [
              0.2222222222222222,
              "#7201a8"
             ],
             [
              0.3333333333333333,
              "#9c179e"
             ],
             [
              0.4444444444444444,
              "#bd3786"
             ],
             [
              0.5555555555555556,
              "#d8576b"
             ],
             [
              0.6666666666666666,
              "#ed7953"
             ],
             [
              0.7777777777777778,
              "#fb9f3a"
             ],
             [
              0.8888888888888888,
              "#fdca26"
             ],
             [
              1,
              "#f0f921"
             ]
            ],
            "type": "contour"
           }
          ],
          "contourcarpet": [
           {
            "colorbar": {
             "outlinewidth": 0,
             "ticks": ""
            },
            "type": "contourcarpet"
           }
          ],
          "heatmap": [
           {
            "colorbar": {
             "outlinewidth": 0,
             "ticks": ""
            },
            "colorscale": [
             [
              0,
              "#0d0887"
             ],
             [
              0.1111111111111111,
              "#46039f"
             ],
             [
              0.2222222222222222,
              "#7201a8"
             ],
             [
              0.3333333333333333,
              "#9c179e"
             ],
             [
              0.4444444444444444,
              "#bd3786"
             ],
             [
              0.5555555555555556,
              "#d8576b"
             ],
             [
              0.6666666666666666,
              "#ed7953"
             ],
             [
              0.7777777777777778,
              "#fb9f3a"
             ],
             [
              0.8888888888888888,
              "#fdca26"
             ],
             [
              1,
              "#f0f921"
             ]
            ],
            "type": "heatmap"
           }
          ],
          "heatmapgl": [
           {
            "colorbar": {
             "outlinewidth": 0,
             "ticks": ""
            },
            "colorscale": [
             [
              0,
              "#0d0887"
             ],
             [
              0.1111111111111111,
              "#46039f"
             ],
             [
              0.2222222222222222,
              "#7201a8"
             ],
             [
              0.3333333333333333,
              "#9c179e"
             ],
             [
              0.4444444444444444,
              "#bd3786"
             ],
             [
              0.5555555555555556,
              "#d8576b"
             ],
             [
              0.6666666666666666,
              "#ed7953"
             ],
             [
              0.7777777777777778,
              "#fb9f3a"
             ],
             [
              0.8888888888888888,
              "#fdca26"
             ],
             [
              1,
              "#f0f921"
             ]
            ],
            "type": "heatmapgl"
           }
          ],
          "histogram": [
           {
            "marker": {
             "pattern": {
              "fillmode": "overlay",
              "size": 10,
              "solidity": 0.2
             }
            },
            "type": "histogram"
           }
          ],
          "histogram2d": [
           {
            "colorbar": {
             "outlinewidth": 0,
             "ticks": ""
            },
            "colorscale": [
             [
              0,
              "#0d0887"
             ],
             [
              0.1111111111111111,
              "#46039f"
             ],
             [
              0.2222222222222222,
              "#7201a8"
             ],
             [
              0.3333333333333333,
              "#9c179e"
             ],
             [
              0.4444444444444444,
              "#bd3786"
             ],
             [
              0.5555555555555556,
              "#d8576b"
             ],
             [
              0.6666666666666666,
              "#ed7953"
             ],
             [
              0.7777777777777778,
              "#fb9f3a"
             ],
             [
              0.8888888888888888,
              "#fdca26"
             ],
             [
              1,
              "#f0f921"
             ]
            ],
            "type": "histogram2d"
           }
          ],
          "histogram2dcontour": [
           {
            "colorbar": {
             "outlinewidth": 0,
             "ticks": ""
            },
            "colorscale": [
             [
              0,
              "#0d0887"
             ],
             [
              0.1111111111111111,
              "#46039f"
             ],
             [
              0.2222222222222222,
              "#7201a8"
             ],
             [
              0.3333333333333333,
              "#9c179e"
             ],
             [
              0.4444444444444444,
              "#bd3786"
             ],
             [
              0.5555555555555556,
              "#d8576b"
             ],
             [
              0.6666666666666666,
              "#ed7953"
             ],
             [
              0.7777777777777778,
              "#fb9f3a"
             ],
             [
              0.8888888888888888,
              "#fdca26"
             ],
             [
              1,
              "#f0f921"
             ]
            ],
            "type": "histogram2dcontour"
           }
          ],
          "mesh3d": [
           {
            "colorbar": {
             "outlinewidth": 0,
             "ticks": ""
            },
            "type": "mesh3d"
           }
          ],
          "parcoords": [
           {
            "line": {
             "colorbar": {
              "outlinewidth": 0,
              "ticks": ""
             }
            },
            "type": "parcoords"
           }
          ],
          "pie": [
           {
            "automargin": true,
            "type": "pie"
           }
          ],
          "scatter": [
           {
            "marker": {
             "line": {
              "color": "#283442"
             }
            },
            "type": "scatter"
           }
          ],
          "scatter3d": [
           {
            "line": {
             "colorbar": {
              "outlinewidth": 0,
              "ticks": ""
             }
            },
            "marker": {
             "colorbar": {
              "outlinewidth": 0,
              "ticks": ""
             }
            },
            "type": "scatter3d"
           }
          ],
          "scattercarpet": [
           {
            "marker": {
             "colorbar": {
              "outlinewidth": 0,
              "ticks": ""
             }
            },
            "type": "scattercarpet"
           }
          ],
          "scattergeo": [
           {
            "marker": {
             "colorbar": {
              "outlinewidth": 0,
              "ticks": ""
             }
            },
            "type": "scattergeo"
           }
          ],
          "scattergl": [
           {
            "marker": {
             "line": {
              "color": "#283442"
             }
            },
            "type": "scattergl"
           }
          ],
          "scattermapbox": [
           {
            "marker": {
             "colorbar": {
              "outlinewidth": 0,
              "ticks": ""
             }
            },
            "type": "scattermapbox"
           }
          ],
          "scatterpolar": [
           {
            "marker": {
             "colorbar": {
              "outlinewidth": 0,
              "ticks": ""
             }
            },
            "type": "scatterpolar"
           }
          ],
          "scatterpolargl": [
           {
            "marker": {
             "colorbar": {
              "outlinewidth": 0,
              "ticks": ""
             }
            },
            "type": "scatterpolargl"
           }
          ],
          "scatterternary": [
           {
            "marker": {
             "colorbar": {
              "outlinewidth": 0,
              "ticks": ""
             }
            },
            "type": "scatterternary"
           }
          ],
          "surface": [
           {
            "colorbar": {
             "outlinewidth": 0,
             "ticks": ""
            },
            "colorscale": [
             [
              0,
              "#0d0887"
             ],
             [
              0.1111111111111111,
              "#46039f"
             ],
             [
              0.2222222222222222,
              "#7201a8"
             ],
             [
              0.3333333333333333,
              "#9c179e"
             ],
             [
              0.4444444444444444,
              "#bd3786"
             ],
             [
              0.5555555555555556,
              "#d8576b"
             ],
             [
              0.6666666666666666,
              "#ed7953"
             ],
             [
              0.7777777777777778,
              "#fb9f3a"
             ],
             [
              0.8888888888888888,
              "#fdca26"
             ],
             [
              1,
              "#f0f921"
             ]
            ],
            "type": "surface"
           }
          ],
          "table": [
           {
            "cells": {
             "fill": {
              "color": "#506784"
             },
             "line": {
              "color": "rgb(17,17,17)"
             }
            },
            "header": {
             "fill": {
              "color": "#2a3f5f"
             },
             "line": {
              "color": "rgb(17,17,17)"
             }
            },
            "type": "table"
           }
          ]
         },
         "layout": {
          "annotationdefaults": {
           "arrowcolor": "#f2f5fa",
           "arrowhead": 0,
           "arrowwidth": 1
          },
          "autotypenumbers": "strict",
          "coloraxis": {
           "colorbar": {
            "outlinewidth": 0,
            "ticks": ""
           }
          },
          "colorscale": {
           "diverging": [
            [
             0,
             "#8e0152"
            ],
            [
             0.1,
             "#c51b7d"
            ],
            [
             0.2,
             "#de77ae"
            ],
            [
             0.3,
             "#f1b6da"
            ],
            [
             0.4,
             "#fde0ef"
            ],
            [
             0.5,
             "#f7f7f7"
            ],
            [
             0.6,
             "#e6f5d0"
            ],
            [
             0.7,
             "#b8e186"
            ],
            [
             0.8,
             "#7fbc41"
            ],
            [
             0.9,
             "#4d9221"
            ],
            [
             1,
             "#276419"
            ]
           ],
           "sequential": [
            [
             0,
             "#0d0887"
            ],
            [
             0.1111111111111111,
             "#46039f"
            ],
            [
             0.2222222222222222,
             "#7201a8"
            ],
            [
             0.3333333333333333,
             "#9c179e"
            ],
            [
             0.4444444444444444,
             "#bd3786"
            ],
            [
             0.5555555555555556,
             "#d8576b"
            ],
            [
             0.6666666666666666,
             "#ed7953"
            ],
            [
             0.7777777777777778,
             "#fb9f3a"
            ],
            [
             0.8888888888888888,
             "#fdca26"
            ],
            [
             1,
             "#f0f921"
            ]
           ],
           "sequentialminus": [
            [
             0,
             "#0d0887"
            ],
            [
             0.1111111111111111,
             "#46039f"
            ],
            [
             0.2222222222222222,
             "#7201a8"
            ],
            [
             0.3333333333333333,
             "#9c179e"
            ],
            [
             0.4444444444444444,
             "#bd3786"
            ],
            [
             0.5555555555555556,
             "#d8576b"
            ],
            [
             0.6666666666666666,
             "#ed7953"
            ],
            [
             0.7777777777777778,
             "#fb9f3a"
            ],
            [
             0.8888888888888888,
             "#fdca26"
            ],
            [
             1,
             "#f0f921"
            ]
           ]
          },
          "colorway": [
           "#636efa",
           "#EF553B",
           "#00cc96",
           "#ab63fa",
           "#FFA15A",
           "#19d3f3",
           "#FF6692",
           "#B6E880",
           "#FF97FF",
           "#FECB52"
          ],
          "font": {
           "color": "#f2f5fa"
          },
          "geo": {
           "bgcolor": "rgb(17,17,17)",
           "lakecolor": "rgb(17,17,17)",
           "landcolor": "rgb(17,17,17)",
           "showlakes": true,
           "showland": true,
           "subunitcolor": "#506784"
          },
          "hoverlabel": {
           "align": "left"
          },
          "hovermode": "closest",
          "mapbox": {
           "style": "dark"
          },
          "paper_bgcolor": "rgb(17,17,17)",
          "plot_bgcolor": "rgb(17,17,17)",
          "polar": {
           "angularaxis": {
            "gridcolor": "#506784",
            "linecolor": "#506784",
            "ticks": ""
           },
           "bgcolor": "rgb(17,17,17)",
           "radialaxis": {
            "gridcolor": "#506784",
            "linecolor": "#506784",
            "ticks": ""
           }
          },
          "scene": {
           "xaxis": {
            "backgroundcolor": "rgb(17,17,17)",
            "gridcolor": "#506784",
            "gridwidth": 2,
            "linecolor": "#506784",
            "showbackground": true,
            "ticks": "",
            "zerolinecolor": "#C8D4E3"
           },
           "yaxis": {
            "backgroundcolor": "rgb(17,17,17)",
            "gridcolor": "#506784",
            "gridwidth": 2,
            "linecolor": "#506784",
            "showbackground": true,
            "ticks": "",
            "zerolinecolor": "#C8D4E3"
           },
           "zaxis": {
            "backgroundcolor": "rgb(17,17,17)",
            "gridcolor": "#506784",
            "gridwidth": 2,
            "linecolor": "#506784",
            "showbackground": true,
            "ticks": "",
            "zerolinecolor": "#C8D4E3"
           }
          },
          "shapedefaults": {
           "line": {
            "color": "#f2f5fa"
           }
          },
          "sliderdefaults": {
           "bgcolor": "#C8D4E3",
           "bordercolor": "rgb(17,17,17)",
           "borderwidth": 1,
           "tickwidth": 0
          },
          "ternary": {
           "aaxis": {
            "gridcolor": "#506784",
            "linecolor": "#506784",
            "ticks": ""
           },
           "baxis": {
            "gridcolor": "#506784",
            "linecolor": "#506784",
            "ticks": ""
           },
           "bgcolor": "rgb(17,17,17)",
           "caxis": {
            "gridcolor": "#506784",
            "linecolor": "#506784",
            "ticks": ""
           }
          },
          "title": {
           "x": 0.05
          },
          "updatemenudefaults": {
           "bgcolor": "#506784",
           "borderwidth": 0
          },
          "xaxis": {
           "automargin": true,
           "gridcolor": "#283442",
           "linecolor": "#506784",
           "ticks": "",
           "title": {
            "standoff": 15
           },
           "zerolinecolor": "#283442",
           "zerolinewidth": 2
          },
          "yaxis": {
           "automargin": true,
           "gridcolor": "#283442",
           "linecolor": "#506784",
           "ticks": "",
           "title": {
            "standoff": 15
           },
           "zerolinecolor": "#283442",
           "zerolinewidth": 2
          }
         }
        },
        "title": {
         "text": "24-Hour Percentage Price Change"
        },
        "xaxis": {
         "title": {
          "text": "Cryptocurrency"
         }
        },
        "yaxis": {
         "title": {
          "text": "Price Change (24h %)"
         }
        }
       }
      }
     },
     "metadata": {},
     "output_type": "display_data"
    }
   ],
   "source": [
    "import plotly.graph_objects as go\n",
    "\n",
    "def plot_analysis(df):\n",
    "    # Top 5 Cryptocurrencies by Market Capitalization (Horizontal Bar Chart)\n",
    "    top_5 = df.nlargest(5, \"Market Capitalization (USD)\")\n",
    "    \n",
    "    # Plot for Top 5 Cryptocurrencies\n",
    "    fig_top_5 = go.Figure(go.Bar(\n",
    "        x=top_5[\"Market Capitalization (USD)\"],\n",
    "        y=top_5[\"Cryptocurrency Name\"],\n",
    "        orientation='h',  # Horizontal bar chart\n",
    "        marker=dict(color='rgb(55, 83, 109)'),  # Customize color\n",
    "        name=\"Top 5 Cryptos\"\n",
    "    ))\n",
    "    fig_top_5.update_layout(\n",
    "        title=\"Top 5 Cryptocurrencies by Market Capitalization\",\n",
    "        xaxis_title=\"Market Capitalization (USD)\",\n",
    "        yaxis_title=\"Cryptocurrency\",\n",
    "        template=\"plotly_dark\"\n",
    "    )\n",
    "\n",
    "    # 24-hour Percentage Price Change Analysis (Vertical Bar Chart)\n",
    "    max_change = df.loc[df[\"Price Change (24h %)\"].idxmax()]\n",
    "    min_change = df.loc[df[\"Price Change (24h %)\"].idxmin()]\n",
    "\n",
    "    # Plot for 24h Price Change\n",
    "    fig_24h_change = go.Figure(go.Bar(\n",
    "        x=[max_change['Cryptocurrency Name'], min_change['Cryptocurrency Name']],\n",
    "        y=[max_change['Price Change (24h %)'], min_change['Price Change (24h %)']],\n",
    "        marker=dict(color=['green', 'red']),  # Different color for high and low\n",
    "        name=\"24h Price Change\"\n",
    "    ))\n",
    "    fig_24h_change.update_layout(\n",
    "        title=\"24-Hour Percentage Price Change\",\n",
    "        xaxis_title=\"Cryptocurrency\",\n",
    "        yaxis_title=\"Price Change (24h %)\",\n",
    "        template=\"plotly_dark\"\n",
    "    )\n",
    "    \n",
    "    # Show the figures\n",
    "    fig_top_5.show()\n",
    "    fig_24h_change.show()\n",
    "\n",
    "# Assuming 'df' is the DataFrame containing the cryptocurrency data\n",
    "plot_analysis(top_cryptos)"
   ]
  },
  {
   "cell_type": "code",
   "execution_count": null,
   "metadata": {},
   "outputs": [
    {
     "name": "stdout",
     "output_type": "stream",
     "text": [
      "Fetching live data...\n",
      "Excel sheet updated: live_crypto_data.xlsx\n",
      "Waiting for 120 seconds before the next update...\n",
      "Fetching live data...\n",
      "Excel sheet updated: live_crypto_data.xlsx\n",
      "Waiting for 120 seconds before the next update...\n",
      "Fetching live data...\n",
      "Excel sheet updated: live_crypto_data.xlsx\n",
      "Waiting for 120 seconds before the next update...\n"
     ]
    },
    {
     "ename": "KeyboardInterrupt",
     "evalue": "",
     "output_type": "error",
     "traceback": [
      "\u001b[0;31m---------------------------------------------------------------------------\u001b[0m",
      "\u001b[0;31mKeyboardInterrupt\u001b[0m                         Traceback (most recent call last)",
      "Cell \u001b[0;32mIn[19], line 73\u001b[0m\n\u001b[1;32m     71\u001b[0m \u001b[38;5;28;01mif\u001b[39;00m \u001b[38;5;18m__name__\u001b[39m \u001b[38;5;241m==\u001b[39m \u001b[38;5;124m\"\u001b[39m\u001b[38;5;124m__main__\u001b[39m\u001b[38;5;124m\"\u001b[39m:\n\u001b[1;32m     72\u001b[0m     excel_file \u001b[38;5;241m=\u001b[39m \u001b[38;5;124m\"\u001b[39m\u001b[38;5;124mlive_crypto_data.xlsx\u001b[39m\u001b[38;5;124m\"\u001b[39m\n\u001b[0;32m---> 73\u001b[0m     \u001b[43mlive_update\u001b[49m\u001b[43m(\u001b[49m\u001b[43mexcel_file\u001b[49m\u001b[43m,\u001b[49m\u001b[43m \u001b[49m\u001b[43minterval\u001b[49m\u001b[38;5;241;43m=\u001b[39;49m\u001b[38;5;241;43m120\u001b[39;49m\u001b[43m)\u001b[49m \n",
      "Cell \u001b[0;32mIn[19], line 69\u001b[0m, in \u001b[0;36mlive_update\u001b[0;34m(file_name, interval)\u001b[0m\n\u001b[1;32m     67\u001b[0m     update_excel_sheet(data, file_name)\n\u001b[1;32m     68\u001b[0m \u001b[38;5;28mprint\u001b[39m(\u001b[38;5;124mf\u001b[39m\u001b[38;5;124m\"\u001b[39m\u001b[38;5;124mWaiting for \u001b[39m\u001b[38;5;132;01m{\u001b[39;00minterval\u001b[38;5;132;01m}\u001b[39;00m\u001b[38;5;124m seconds before the next update...\u001b[39m\u001b[38;5;124m\"\u001b[39m)\n\u001b[0;32m---> 69\u001b[0m \u001b[43mtime\u001b[49m\u001b[38;5;241;43m.\u001b[39;49m\u001b[43msleep\u001b[49m\u001b[43m(\u001b[49m\u001b[43minterval\u001b[49m\u001b[43m)\u001b[49m\n",
      "\u001b[0;31mKeyboardInterrupt\u001b[0m: "
     ]
    }
   ],
   "source": [
    "import requests\n",
    "import openpyxl\n",
    "import time\n",
    "\n",
    "def fetch_live_data():\n",
    "    url = \"https://api.coingecko.com/api/v3/coins/markets\"\n",
    "    params = {\n",
    "        \"vs_currency\": \"usd\",  # Prices in USD\n",
    "        \"order\": \"market_cap_desc\",  # Order by market cap\n",
    "        \"per_page\": 50,  # Top 50 cryptocurrencies\n",
    "        \"page\": 1,\n",
    "        \"sparkline\": False\n",
    "    }\n",
    "\n",
    "    try:\n",
    "        response = requests.get(url, params=params)\n",
    "        response.raise_for_status()\n",
    "        data = response.json()\n",
    "        return [\n",
    "            [\n",
    "                coin[\"name\"],\n",
    "                coin[\"symbol\"].upper(),\n",
    "                coin[\"current_price\"],\n",
    "                coin[\"market_cap\"],\n",
    "                coin[\"total_volume\"],\n",
    "                coin[\"price_change_percentage_24h\"]\n",
    "            ]\n",
    "            for coin in data\n",
    "        ]\n",
    "    except requests.exceptions.RequestException as e:\n",
    "        print(f\"Error fetching data: {e}\")\n",
    "        return None\n",
    "\n",
    "def update_excel_sheet(data, file_name):\n",
    "    # Create a new Excel workbook if it doesn't exist\n",
    "    try:\n",
    "        workbook = openpyxl.load_workbook(file_name)\n",
    "        sheet = workbook.active\n",
    "    except FileNotFoundError:\n",
    "        workbook = openpyxl.Workbook()\n",
    "        sheet = workbook.active\n",
    "        # Write the header\n",
    "        headers = [\n",
    "            \"Cryptocurrency Name\", \"Symbol\", \"Current Price (USD)\", \n",
    "            \"Market Capitalization (USD)\", \"24h Trading Volume (USD)\", \n",
    "            \"Price Change (24h %)\"\n",
    "        ]\n",
    "        sheet.append(headers)\n",
    "    '''\n",
    "    # Clear existing data except the header\n",
    "    for row in sheet.iter_rows(min_row=2, max_row=sheet.max_row, max_col=sheet.max_column):\n",
    "        for cell in row:\n",
    "            cell.value = None\n",
    "    '''\n",
    "    # Write the new data\n",
    "    for row_data in data:\n",
    "        sheet.append(row_data)\n",
    "\n",
    "    workbook.save(file_name)\n",
    "    print(f\"Excel sheet updated: {file_name}\")\n",
    "\n",
    "def live_update(file_name, interval=300):\n",
    "    while True:\n",
    "        print(\"Fetching live data...\")\n",
    "        data = fetch_live_data()\n",
    "        if data:\n",
    "            update_excel_sheet(data, file_name)\n",
    "        print(f\"Waiting for {interval} seconds before the next update...\")\n",
    "        time.sleep(interval)\n",
    "\n",
    "\n",
    "excel_file = \"live_crypto_data.xlsx\"\n",
    "live_update(excel_file, interval=300) "
   ]
  },
  {
   "cell_type": "code",
   "execution_count": null,
   "metadata": {},
   "outputs": [],
   "source": []
  }
 ],
 "metadata": {
  "kernelspec": {
   "display_name": "Python 3",
   "language": "python",
   "name": "python3"
  },
  "language_info": {
   "codemirror_mode": {
    "name": "ipython",
    "version": 3
   },
   "file_extension": ".py",
   "mimetype": "text/x-python",
   "name": "python",
   "nbconvert_exporter": "python",
   "pygments_lexer": "ipython3",
   "version": "3.10.14"
  }
 },
 "nbformat": 4,
 "nbformat_minor": 2
}
